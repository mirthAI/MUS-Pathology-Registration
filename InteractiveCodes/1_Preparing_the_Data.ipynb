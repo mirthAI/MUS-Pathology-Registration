{
 "cells": [
  {
   "cell_type": "code",
   "execution_count": null,
   "id": "2dd75cbc-aad4-4671-b9b5-c20325edb289",
   "metadata": {
    "tags": []
   },
   "outputs": [],
   "source": [
    "import os\n",
    "import glob\n",
    "import csv\n",
    "import SimpleITK as sitk\n",
    "import numpy as np\n",
    "import cv2\n",
    "from tqdm import tqdm\n",
    "\n",
    "def converting_nifti_to_png(source_dir, dest_dir):\n",
    "    \"\"\"\n",
    "    Convert NIfTI and NRRD files to PNG format.\n",
    "\n",
    "    This function reads medical imaging data in NIfTI (.nii.gz) and NRRD (.seg.nrrd) formats,\n",
    "    extracts relevant slices, and saves them as PNG files in the specified destination directory.\n",
    "    It also creates a CSV file listing the generated PNG files.\n",
    "\n",
    "    Parameters:\n",
    "    - source_dir (str): Path to the source directory containing subfolders of NIfTI and NRRD files.\n",
    "    - dest_dir (str): Path to the destination directory where PNG files will be saved.\n",
    "\n",
    "    The CSV file generated will contain columns: \n",
    "    - Micro-US Image Names\n",
    "    - Micro-US Masks Names\n",
    "    - PATH Image Names\n",
    "    - PATH Mask Names\n",
    "    \"\"\"\n",
    "    \n",
    "    # Get the list of source images\n",
    "    source_images = sorted(os.listdir(source_dir))\n",
    "\n",
    "    # Create the destination directory if it doesn't exist\n",
    "    if not os.path.exists(dest_dir):\n",
    "        os.makedirs(dest_dir)\n",
    "\n",
    "    # Create a CSV file to save the file names\n",
    "    csv_file_path = \"./file_names.csv\"\n",
    "    with open(csv_file_path, mode='w', newline='') as file:\n",
    "        writer = csv.writer(file)\n",
    "        writer.writerow([\"Micro-US Image Names\", \"Micro-US Masks Names\", \"PATH Image Names\", \"PATH Mask Names\"])\n",
    "\n",
    "        for folder in source_images:\n",
    "            dest_folder = os.path.join(dest_dir, folder)\n",
    "            if not os.path.exists(dest_folder):\n",
    "                os.makedirs(dest_folder)\n",
    "\n",
    "            micro_image_path = glob.glob(os.path.join(source_dir, folder, \"micro*image.nii.gz\"))[0]\n",
    "            micro_mask_path = glob.glob(os.path.join(source_dir, folder, \"*correspondence*.seg.nrrd\"))[0]\n",
    "            hist_image_path = glob.glob(os.path.join(source_dir, folder, \"*hist*.nii.gz\"))[0]\n",
    "            hist_mask_path = glob.glob(os.path.join(source_dir, folder, \"*prostate.seg.nrrd\"))[0]\n",
    "\n",
    "            micro_image = sitk.GetArrayFromImage(sitk.ReadImage(micro_image_path))\n",
    "            micro_mask = sitk.GetArrayFromImage(sitk.ReadImage(micro_mask_path))\n",
    "            hist_image = sitk.GetArrayFromImage(sitk.ReadImage(hist_image_path))\n",
    "            hist_mask = sitk.GetArrayFromImage(sitk.ReadImage(hist_mask_path))\n",
    "            number_of_nonzero_slices = 0\n",
    "            for i in tqdm(range(micro_image.shape[0]), desc=f\"Processing Subject: {folder} | Slice Number\", unit=\"slice\"):\n",
    "                temp = np.sum(micro_mask[i, :, :])\n",
    "                if temp != 0:\n",
    "                    image = micro_image[i, :, :]\n",
    "                    mask = micro_mask[i, :, :] * 255\n",
    "                    dest_micro_image_path = os.path.join(dest_folder, f\"{folder}_microus_slice_{i}.png\")\n",
    "                    dest_micro_mask_path = os.path.join(dest_folder, f\"{folder}_microus_label_{i}.png\")\n",
    "                    cv2.imwrite(dest_micro_image_path, image)\n",
    "                    cv2.imwrite(dest_micro_mask_path, mask.astype(np.uint8))\n",
    "\n",
    "                    temp_hist_image = hist_image[number_of_nonzero_slices, :, :, :].astype(np.uint8)\n",
    "                    temp_hist_image = cv2.cvtColor(temp_hist_image, cv2.COLOR_RGB2BGR)\n",
    "                    temp_hist_mask = hist_mask[number_of_nonzero_slices, :, :] * 255\n",
    "                    dest_hist_image_path = os.path.join(dest_folder, f\"{folder}_hist_slice_{i}.png\")\n",
    "                    dest_hist_mask_path = os.path.join(dest_folder, f\"{folder}_hist_label_{i}.png\")\n",
    "                    cv2.imwrite(dest_hist_image_path, temp_hist_image.astype(np.uint8))\n",
    "                    cv2.imwrite(dest_hist_mask_path, temp_hist_mask.astype(np.uint8))\n",
    "\n",
    "                    number_of_nonzero_slices += 1\n",
    "                    writer.writerow([dest_micro_image_path, dest_micro_mask_path, dest_hist_image_path, dest_hist_mask_path])\n",
    "\n",
    "            print(f\"For {folder}, Slice Correspondance Between Histopathology and Micro-US Exists for {number_of_nonzero_slices} Slices...\")\n",
    "    print('All done!!!')\n",
    "\n",
    "\n"
   ]
  },
  {
   "cell_type": "code",
   "execution_count": null,
   "id": "a6682976-504a-4ff7-bf80-e8f4a6e94580",
   "metadata": {
    "tags": []
   },
   "outputs": [],
   "source": [
    "# source_dir = \"../data/nifti_data/\"\n",
    "# dest_dir = \"../data/png_data/\"\n",
    "# converting_nifti_to_png(source_dir, dest_dir)"
   ]
  },
  {
   "cell_type": "markdown",
   "id": "bf20819e-c4ca-4a2a-b987-b3438f0defd1",
   "metadata": {},
   "source": [
    "# Preapring PNG Images Ready for Registration Task"
   ]
  },
  {
   "cell_type": "code",
   "execution_count": null,
   "id": "f38886d3-2ba1-4859-b7c4-9d01fbd4d37f",
   "metadata": {
    "tags": []
   },
   "outputs": [],
   "source": [
    "def find_segmentation_dimensions(segmentation_file):\n",
    "    # Read the segmentation file\n",
    "    segmentation_image = cv2.imread(segmentation_file, cv2.IMREAD_GRAYSCALE)\n",
    "    \n",
    "    # Find all non-zero pixels\n",
    "    non_zero_indices = cv2.findNonZero(segmentation_image)\n",
    "    \n",
    "    if non_zero_indices is None:\n",
    "        return 0, 0  # If no non-zero pixels found, return 0 for both width and height\n",
    "    \n",
    "    # Find the bounding rectangle around non-zero pixels\n",
    "    x, y, w, h = cv2.boundingRect(non_zero_indices)\n",
    "    \n",
    "    return w, h\n",
    "\n",
    "def replace_center_with_segmentation(base_image, segmentation_image):\n",
    "    # Get dimensions of base image\n",
    "    height, width, _ = base_image.shape\n",
    "    \n",
    "    # Find the center of the base image\n",
    "    center_x = width // 2\n",
    "    center_y = height // 2\n",
    "    \n",
    "    # Find the starting and ending coordinates for the boundary box\n",
    "    box_width, box_height = segmentation_image.shape[1], segmentation_image.shape[0]\n",
    "    start_x = center_x - box_width // 2\n",
    "    start_y = center_y - box_height // 2\n",
    "    end_x = start_x + box_width\n",
    "    end_y = start_y + box_height\n",
    "    \n",
    "    # Replace the center of the base image with the segmentation image\n",
    "    base_image[start_y:end_y, start_x:end_x, :] = segmentation_image\n",
    "    \n",
    "    return base_image"
   ]
  },
  {
   "cell_type": "code",
   "execution_count": null,
   "id": "0eedd5fe-1804-4d65-94c1-49de4d113a00",
   "metadata": {
    "tags": []
   },
   "outputs": [],
   "source": [
    "# source_dir = \"../data/png_data/\"\n",
    "# destination_dir = \"../data/processed_png_data/\"\n",
    "# subfolders = sorted(os.listdir(source_dir))\n",
    "# i = 0\n",
    "# new_folder = os.path.join(destination_dir, subfolders[i])\n",
    "# print(new_folder)"
   ]
  },
  {
   "cell_type": "code",
   "execution_count": null,
   "id": "bb6e5a5a-c1f6-40e3-bd44-7f9631001679",
   "metadata": {
    "tags": []
   },
   "outputs": [],
   "source": [
    "def histopathology_image_preparation(source_dir, dest_dir):    \n",
    "    subfolders = sorted(os.listdir(source_dir))\n",
    "    hist_coordinates = []\n",
    "    for i in range(len(subfolders)):\n",
    "        new_folder = os.path.join(dest_dir, subfolders[i])\n",
    "        os.makedirs(new_folder, exist_ok=True)\n",
    "        hist_images_paths = sorted(glob.glob(os.path.join(source_dir, subfolders[i], \"*_hist_slice_*\")))\n",
    "        hist_mask_paths = sorted(glob.glob(os.path.join(source_dir, subfolders[i], \"*_hist_label_*\")))\n",
    "        for hist_image_path in tqdm(hist_images_paths, desc=f'Processing Histopathology Case: {subfolders[i]}', unit='image'):\n",
    "            hist_mask_path = hist_image_path.replace('slice', 'label')\n",
    "            hist_filename = hist_image_path.split(\"/\")[-1]\n",
    "            hist_seg_filename = hist_mask_path.split(\"/\")[-1]\n",
    "            img_hist = cv2.imread(hist_image_path, cv2.IMREAD_COLOR)\n",
    "            seg_hist = cv2.imread(hist_mask_path, cv2.IMREAD_COLOR) \n",
    "            if img_hist is not None:    \n",
    "                \n",
    "                # Find all non-zero pixel coordinates\n",
    "                seg_hist[np.where(seg_hist==254)] = 255\n",
    "                non_zero_coords = np.argwhere(seg_hist[:,:,0] == 255)\n",
    "                # Crop the image to the non-zero region\n",
    "                y_min, x_min = non_zero_coords.min(axis=0)\n",
    "                y_max, x_max = non_zero_coords.max(axis=0)\n",
    "                cropped_img_hist = img_hist[y_min:y_max+1, x_min:x_max+1]\n",
    "                cropped_seg_hist = seg_hist[y_min:y_max+1, x_min:x_max+1]\n",
    "                cropped_img_hist = cropped_img_hist * (cropped_seg_hist/255.0).astype('uint8')        \n",
    "                ##############################################################################\n",
    "                w, h = find_segmentation_dimensions(hist_mask_path)\n",
    "                base_image1 = np.zeros((round(max(h, w)*1.5), round(max(h, w)*1.5), 3), dtype=np.uint8)\n",
    "                base_image2 = np.zeros((round(max(h, w)*1.5), round(max(h, w)*1.5), 3), dtype=np.uint8)\n",
    "                new_cropped_img_hist = replace_center_with_segmentation(base_image1, cropped_img_hist)\n",
    "                new_cropped_seg_hist = replace_center_with_segmentation(base_image2, cropped_seg_hist)\n",
    "                ############################################################################\n",
    "\n",
    "                # # Save the processed image\n",
    "                hist_image_path_new = os.path.join(new_folder, hist_filename)\n",
    "                hist_mask_path_new = os.path.join(new_folder, hist_seg_filename)\n",
    "                cv2.imwrite(hist_image_path_new, new_cropped_img_hist)\n",
    "                cv2.imwrite(hist_mask_path_new, new_cropped_seg_hist)\n",
    "    print('All Histopathology Image are Prepared for Image Registration Task')"
   ]
  },
  {
   "cell_type": "code",
   "execution_count": null,
   "id": "6059b7b8-2584-4376-b229-e4edb68ff668",
   "metadata": {
    "tags": []
   },
   "outputs": [],
   "source": [
    "source_dir = \"../data/png_data/\"\n",
    "destination_dir = \"../data/processed_png_data/\"\n",
    "histopathology_image_preparation(source_dir, dest_dir=destination_dir)"
   ]
  },
  {
   "cell_type": "markdown",
   "id": "d4c9e726-7470-4245-adab-1b8a8e1ddf6c",
   "metadata": {},
   "source": [
    "# Processing MicroUS images"
   ]
  },
  {
   "cell_type": "code",
   "execution_count": null,
   "id": "754cf42e-9419-4e53-91a9-46a1349ee4dd",
   "metadata": {
    "tags": []
   },
   "outputs": [],
   "source": [
    "def microus_image_preparation(source_dir, dest_dir):  \n",
    "    subfolders = sorted(os.listdir(source_dir))\n",
    "    microus_coordinates = []\n",
    "    for i in range(len(subfolders)):\n",
    "        new_folder = os.path.join(dest_dir, subfolders[i])\n",
    "        os.makedirs(new_folder, exist_ok=True)\n",
    "        microus_images_paths = sorted(glob.glob(os.path.join(source_dir, subfolders[i], \"*_microus_slice_*\")))\n",
    "        microus_mask_paths = sorted(glob.glob(os.path.join(source_dir, subfolders[i], \"*_microus_label_*\")))\n",
    "        for microus_image_path in tqdm(microus_images_paths, desc=f'Processing Micro-US Case: {subfolders[i]}', unit='image'):\n",
    "            microus_mask_path = microus_image_path.replace('slice', 'label')\n",
    "            microus_filename = microus_image_path.split(\"/\")[-1]\n",
    "            microus_seg_filename = microus_mask_path.split(\"/\")[-1]\n",
    "            img_microus = cv2.imread(microus_image_path, cv2.IMREAD_COLOR)\n",
    "            seg_microus = cv2.imread(microus_mask_path, cv2.IMREAD_COLOR) \n",
    "            if img_microus is not None:    \n",
    "                # print(f\"Processing ... {microus_filename}\")\n",
    "                # Find all non-zero pixel coordinates\n",
    "                seg_microus[np.where(seg_microus==254)] = 255\n",
    "                non_zero_coords = np.argwhere(seg_microus[:,:,0] == 255)\n",
    "                # Crop the image to the non-zero region\n",
    "                y_min, x_min = non_zero_coords.min(axis=0)\n",
    "                y_max, x_max = non_zero_coords.max(axis=0)\n",
    "                cropped_img_microus = img_microus[y_min:y_max+1, x_min:x_max+1]\n",
    "                cropped_seg_microus = seg_microus[y_min:y_max+1, x_min:x_max+1]\n",
    "                ##############################################################################\n",
    "                # cropped_img_microus = cv2.cvtColor(cropped_img_microus, cv2.COLOR_BGR2RGB)\n",
    "                cropped_img_microus = cropped_img_microus * (cropped_seg_microus/255.0).astype('uint8')\n",
    "                w, h = find_segmentation_dimensions(microus_mask_path)\n",
    "                # print(f\"Width: {w} | Height: {h}\")\n",
    "                base_image1 = np.zeros((round(max(h, w)*1.5), round(max(h, w)*1.5), 3), dtype=np.uint8)\n",
    "                base_image2 = np.zeros((round(max(h, w)*1.5), round(max(h, w)*1.5), 3), dtype=np.uint8)\n",
    "                new_cropped_img_microus = replace_center_with_segmentation(base_image1, cropped_img_microus)\n",
    "                new_cropped_seg_microus = replace_center_with_segmentation(base_image2, cropped_seg_microus)\n",
    "                ############################################################################\n",
    "                # print(f\"new_cropped_img_microus: {new_cropped_img_microus.shape} | new_cropped_seg_microus: {new_cropped_seg_microus.shape}\")\n",
    "                # # Save the processed image\n",
    "                microus_image_path_new = os.path.join(new_folder, microus_filename)\n",
    "                microus_mask_path_new = os.path.join(new_folder, microus_seg_filename)\n",
    "                cv2.imwrite(microus_image_path_new, new_cropped_img_microus)\n",
    "                cv2.imwrite(microus_mask_path_new, new_cropped_seg_microus)\n",
    "    print('MicroUS Processing Done!!!!!!!!!!!!!!!!!!!!!!!!!!!!!')"
   ]
  },
  {
   "cell_type": "code",
   "execution_count": null,
   "id": "428b236e-a882-4554-a899-b677178de3d3",
   "metadata": {
    "tags": []
   },
   "outputs": [],
   "source": [
    "source_dir = \"../data/png_data/\"\n",
    "destination_dir = \"../data/processed_png_data/\"\n",
    "microus_image_preparation(source_dir, dest_dir=destination_dir)"
   ]
  },
  {
   "cell_type": "markdown",
   "id": "172fe3c9-0141-447b-bb3b-232333eabfbe",
   "metadata": {
    "tags": []
   },
   "source": [
    "# Creating CSV files for Cross Validatoin"
   ]
  },
  {
   "cell_type": "code",
   "execution_count": null,
   "id": "117a85c4-1b95-48e9-aa0e-00af8df1285a",
   "metadata": {
    "tags": []
   },
   "outputs": [],
   "source": [
    "import os\n",
    "import glob\n",
    "import pandas as pd\n",
    "from tqdm import tqdm\n",
    "\n",
    "# Path to the main folder\n",
    "dest_dir = \"../data/processed_png_data/\"\n",
    "# List all subfolders\n",
    "subfolders = sorted([f.path for f in os.scandir(dest_dir) if f.is_dir()])\n",
    "\n",
    "# Number of subfolders to leave out in each cycle\n",
    "num_leave_out = 3\n",
    "\n",
    "# Total number of cycles\n",
    "num_folds = len(subfolders) // num_leave_out\n",
    "\n",
    "# Iterate over each cycle\n",
    "for cycle in tqdm(range(num_folds), desc=\"Folds\"):\n",
    "    # Calculate the starting index for the subfolders to leave out\n",
    "    start_idx = len(subfolders) - (cycle + 1) * num_leave_out\n",
    "    # Calculate the ending index for the subfolders to leave out\n",
    "    end_idx = start_idx + num_leave_out\n",
    "    \n",
    "    # Get the list of subfolders for this cycle\n",
    "    selected_subfolders = subfolders[:start_idx] + subfolders[end_idx:]\n",
    "    leave_out_subfolders = subfolders[start_idx:end_idx]\n",
    "    \n",
    "    training_record = []\n",
    "    testing_record = []\n",
    "    training_csv_file = os.path.join(dest_dir, \"Training_Label_Paths_For_Fold\" + str(cycle + 1) + \".csv\")\n",
    "    testing_csv_file = os.path.join(dest_dir, \"Testing_Label_Paths_For_Fold\" + str(cycle + 1) + \".csv\")\n",
    "    \n",
    "    # Training Lists\n",
    "    for subfolder in selected_subfolders:\n",
    "        microus_mask_paths = sorted(glob.glob(os.path.join(subfolder, \"*_microus_label_*\")))\n",
    "        hist_mask_paths = sorted(glob.glob(os.path.join(subfolder, \"*_hist_label_*\")))\n",
    "        for i in range(len(microus_mask_paths)):\n",
    "            training_record.append({\"Hist_Mask_Paths\": hist_mask_paths[i], \"Micour US Maks\": microus_mask_paths[i]})    \n",
    "    df = pd.DataFrame(training_record)\n",
    "    df.to_csv(training_csv_file, index=False)\n",
    "    \n",
    "    # Testing Lists\n",
    "    for subfolder in leave_out_subfolders:\n",
    "        microus_mask_paths = sorted(glob.glob(os.path.join(subfolder, \"*_microus_label_*\")))\n",
    "        hist_mask_paths = sorted(glob.glob(os.path.join(subfolder, \"*_hist_label_*\")))\n",
    "        for i in range(len(microus_mask_paths)):\n",
    "            testing_record.append({\"Hist_Mask_Paths\": hist_mask_paths[i], \"Micour US Maks\": microus_mask_paths[i]})\n",
    "    \n",
    "    df = pd.DataFrame(testing_record)\n",
    "    df.to_csv(testing_csv_file, index=False)\n",
    "    \n",
    "print(\"Processing completed.\")\n"
   ]
  },
  {
   "cell_type": "code",
   "execution_count": null,
   "id": "cff9ac37-dbd8-42b0-84c6-ec8a18075075",
   "metadata": {},
   "outputs": [],
   "source": []
  }
 ],
 "metadata": {
  "kernelspec": {
   "display_name": "MIQ_Kernel",
   "language": "python",
   "name": "miq_kernel"
  },
  "language_info": {
   "codemirror_mode": {
    "name": "ipython",
    "version": 3
   },
   "file_extension": ".py",
   "mimetype": "text/x-python",
   "name": "python",
   "nbconvert_exporter": "python",
   "pygments_lexer": "ipython3",
   "version": "3.10.14"
  }
 },
 "nbformat": 4,
 "nbformat_minor": 5
}
